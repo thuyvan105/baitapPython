{
 "tế bào" : [
  {
   "cell_type" : " mã " ,
   "số_số_thực_hiện" : 1 ,
   "siêu dữ liệu" : {},
   "đầu ra" : [
    {
     "tên" : " thiết bị xuất chuẩn " ,
     "output_type" : " dòng " ,
     "văn bản" : [
      " Sai \n "
     ]
    }
   ],
   "nguồn" : [
    " n=int(input( \" Nhập số: \" )) \n " ,
    " nhiệt độ=n \n " ,
    " rev=0 \n " ,
    " while(n>0): \n " ,
    "     đào=n%10 \n " ,
    "     rev=rev*10+đào \n " ,
    "     n=n//10 \n " ,
    " if(temp==rev): \n " ,
    "     in( \" True \" ) \n " ,
    " khác: \n " ,
    "     in( \" Sai \" ) "
   ]
  }
],
 "siêu dữ liệu" : {
  "kernelspec" : {
   "display_name" : " cơ sở " ,
   "ngôn ngữ" : " con trăn " ,
   "tên" : " python3 "
  },
  "ngôn ngữ_thông tin" : {
   "tên" : " con trăn " ,
   "phiên bản" : " 3.9.12 (chính, ngày 4 tháng 4 năm 2022, 05:22:27) [MSC v.1916 64 bit (AMD64)] "
  },
  "orig_nbformat" : 4 ,
  "vscode" : {
   "thông dịch viên" : {
    "băm" : " ad2bdc8ecc057115af97d19610ffacc2b4e99fae6737bb82f5d7fb13d2f2c186 "
   }
  }
},
 "nbformat" : 4 ,
 "nbformat_minor" : 2
}

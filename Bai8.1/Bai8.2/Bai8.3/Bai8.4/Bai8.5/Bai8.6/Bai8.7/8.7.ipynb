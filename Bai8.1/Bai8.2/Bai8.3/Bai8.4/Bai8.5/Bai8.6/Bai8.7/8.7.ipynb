{
 "tế bào" : [
  {
   "tệp đính kèm" : {},
   "cell_type" : " đánh dấu " ,
   "siêu dữ liệu" : {},
   "nguồn" : [
    " # Nhập bộ đếm thư viện trong bộ sưu tập "
   ]
  },
  {
   "cell_type" : " mã " ,
   "số_số_thực_hiện" : 1 ,
   "siêu dữ liệu" : {},
   "đầu ra" : [],
   "nguồn" : [
    " Bộ đếm nhập từ bộ sưu tập "
   ]
  },
  {
   "cell_type" : " mã " ,
   "số_thực_hiện" : 3 ,
   "siêu dữ liệu" : {},
   "đầu ra" : [
    {
     "tên" : " thiết bị xuất chuẩn " ,
     "output_type" : " dòng " ,
     "văn bản" : [
      " Counter({'e': 2, 't': 2, 'L': 1, 'r': 1}) \ n "
     ]
    }
   ],
   "nguồn" : [
    " string_var = 'Thư' \n " ,
    " đếm = Bộ đếm(string_var) \n " ,
    " # điều này sẽ in số đếm chính tả \n " ,
    " in (đếm) "
   ]
  }
],
 "siêu dữ liệu" : {
  "kernelspec" : {
   "display_name" : " cơ sở " ,
   "ngôn ngữ" : " con trăn " ,
   "tên" : " python3 "
  },
  "ngôn ngữ_thông tin" : {
   "codemirror_mode" : {
    "tên" : " ipython " ,
    "phiên bản" : 3
   },
   "file_extension" : " .py " ,
   "mimetype" : " text/x-python " ,
   "tên" : " con trăn " ,
   "nbconvert_exporter" : " trăn " ,
   "pygments_lexer" : " ipython3 " ,
   "phiên bản" : " 3.9.12 "
  },
  "orig_nbformat" : 4 ,
  "vscode" : {
   "thông dịch viên" : {
    "băm" : " ad2bdc8ecc057115af97d19610ffacc2b4e99fae6737bb82f5d7fb13d2f2c186 "
   }
  }
},
 "nbformat" : 4 ,
 "nbformat_minor" : 2
}

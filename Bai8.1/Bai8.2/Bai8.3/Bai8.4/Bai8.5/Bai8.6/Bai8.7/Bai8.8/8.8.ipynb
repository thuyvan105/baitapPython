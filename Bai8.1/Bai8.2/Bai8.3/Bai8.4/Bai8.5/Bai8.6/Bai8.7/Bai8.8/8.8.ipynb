{
 "tế bào" : [
  {
   "cell_type" : " mã " ,
   "số_số_thực_hiện" : 1 ,
   "siêu dữ liệu" : {},
   "đầu ra" : [
    {
     "tên" : " thiết bị xuất chuẩn " ,
     "output_type" : " dòng " ,
     "văn bản" : [
      " {'Tôi': 2, 'chọn': 1, 'the': 1, 'đỏ': 2, 'màu': 1, 'vì': 1, 'thích': 1} \n "
     ]
    }
   ],
   "nguồn" : [
    " def word_count(str): \n " ,
    "     đếm = dict() \n " ,
    "     từ = str.split() \n " ,
    " \n " ,
    "     cho từ trong từ: \n " ,
    "         nếu đếm được từ: \n " ,
    "             đếm[từ] += 1 \n " ,
    "         khác: \n " ,
    "             đếm[từ] = 1 \n " ,
    " \n " ,
    "     số lần trả lại \n " ,
    " \n " ,
    " print( word_count('Tôi chọn màu đỏ, vì tôi thích màu đỏ')) "
   ]
  }
],
 "siêu dữ liệu" : {
  "kernelspec" : {
   "display_name" : " cơ sở " ,
   "ngôn ngữ" : " con trăn " ,
   "tên" : " python3 "
  },
  "ngôn ngữ_thông tin" : {
   "tên" : " con trăn " ,
   "phiên bản" : " 3.9.12 (chính, ngày 4 tháng 4 năm 2022, 05:22:27) [MSC v.1916 64 bit (AMD64)] "
  },
  "orig_nbformat" : 4 ,
  "vscode" : {
   "thông dịch viên" : {
    "băm" : " ad2bdc8ecc057115af97d19610ffacc2b4e99fae6737bb82f5d7fb13d2f2c186 "
   }
  }
},
 "nbformat" : 4 ,
 "nbformat_minor" : 2
}

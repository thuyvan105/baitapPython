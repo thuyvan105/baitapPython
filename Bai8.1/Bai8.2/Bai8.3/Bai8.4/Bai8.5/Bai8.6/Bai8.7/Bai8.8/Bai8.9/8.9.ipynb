{
 "tế bào" : [
  {
   "tệp đính kèm" : {},
   "cell_type" : " đánh dấu " ,
   "siêu dữ liệu" : {},
   "nguồn" : [
    " # Nhập thư viện numpy \n "
   ]
  },
  {
   "cell_type" : " mã " ,
   "số_số_thực_hiện" : 1 ,
   "siêu dữ liệu" : {},
   "đầu ra" : [
    {
     "tên" : " thiết bị xuất chuẩn " ,
     "output_type" : " dòng " ,
     "văn bản" : [
      " 1.21.5 \n "
     ]
    }
   ],
   "nguồn" : [
    " nhập numpy dưới dạng np \n " ,
    " in(np.__version__) "
   ]
  },
  {
   "cell_type" : " mã " ,
   "số_thực_hiện" : 2 ,
   "siêu dữ liệu" : {},
   "đầu ra" : [
    {
     "tên" : " thiết bị xuất chuẩn " ,
     "output_type" : " dòng " ,
     "văn bản" : [
      " [[ 9 16 21] \n " ,
      " [24 25 24]] \n "
     ]
    }
   ],
   "nguồn" : [
    " array1=np.array([[1,2,3],[4,5,6]],ndmin=2)   \n " ,
    " array2=np.array([[9,8,7],[6,5,4]],ndmin=2)   \n " ,
    " res=np.multiply(array1,array2)   \n " ,
    " in(độ phân giải) "
   ]
  }
],
 "siêu dữ liệu" : {
  "kernelspec" : {
   "display_name" : " cơ sở " ,
   "ngôn ngữ" : " con trăn " ,
   "tên" : " python3 "
  },
  "ngôn ngữ_thông tin" : {
   "codemirror_mode" : {
    "tên" : " ipython " ,
    "phiên bản" : 3
   },
   "file_extension" : " .py " ,
   "mimetype" : " text/x-python " ,
   "tên" : " con trăn " ,
   "nbconvert_exporter" : " trăn " ,
   "pygments_lexer" : " ipython3 " ,
   "phiên bản" : " 3.9.12 "
  },
  "orig_nbformat" : 4 ,
  "vscode" : {
   "thông dịch viên" : {
    "băm" : " ad2bdc8ecc057115af97d19610ffacc2b4e99fae6737bb82f5d7fb13d2f2c186 "
   }
  }
},
 "nbformat" : 4 ,
 "nbformat_minor" : 2
}

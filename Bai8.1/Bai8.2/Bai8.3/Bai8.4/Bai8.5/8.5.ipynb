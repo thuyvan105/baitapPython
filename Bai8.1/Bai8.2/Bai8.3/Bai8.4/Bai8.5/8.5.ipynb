{
 "tế bào" : [
  {
   "tệp đính kèm" : {},
   "cell_type" : " đánh dấu " ,
   "siêu dữ liệu" : {},
   "nguồn" : [
    " # Bài 1 "
   ]
  },
  {
   "cell_type" : " mã " ,
   "số_số_thực_hiện" : 1 ,
   "siêu dữ liệu" : {},
   "đầu ra" : [
    {
     "tên" : " thiết bị xuất chuẩn " ,
     "output_type" : " dòng " ,
     "văn bản" : [
      " Sai \n "
     ]
    }
   ],
   "nguồn" : [
    " # Chương trình kiểm tra một số có phải là số nguyên tố hay không \n " ,
    " \n " ,
    " num = int(input( \" Nhập số: \" )) \n " ,
    " \n " ,
    " \n " ,
    " # xác định một biến cờ \n " ,
    " cờ = Sai \n " ,
    " \n " ,
    " nếu num == 1: \n " ,
    "     in( \" Sai \" ) \n " ,
    " elif num > 1: \n " ,
    "     # kiểm tra các yếu tố \n " ,
    "     đối với tôi trong phạm vi (2, num): \n " ,
    "         if (num % i) == 0: \n " ,
    "             cờ = Đúng \n " ,
    "             ngắt \n " ,
    " \n " ,
    "     # kiểm tra xem cờ có đúng không \n " ,
    "     nếu cờ: \n " ,
    "         in( \" True \" ) \n " ,
    "     khác: \n " ,
    "         in( \" Sai \" ) "
   ]
  },
  {
   "tệp đính kèm" : {},
   "cell_type" : " đánh dấu " ,
   "siêu dữ liệu" : {},
   "nguồn" : [
    " # Bài 2 "
   ]
  },
  {
   "cell_type" : " mã " ,
   "số_thực_hiện" : 2 ,
   "siêu dữ liệu" : {},
   "đầu ra" : [
    {
     "tên" : " thiết bị xuất chuẩn " ,
     "output_type" : " dòng " ,
     "văn bản" : [
      " 2 3 5 7 11 13 17 19   "
     ]
    }
   ],
   "nguồn" : [
    " đối với Num trong phạm vi (1, 21): \n " ,
    "     đếm = 0 \n " ,
    "     cho tôi trong phạm vi(2, (Num//2 + 1)): \n " ,
    "         if(Num % i == 0): \n " ,
    "             đếm = đếm + 1 \n " ,
    "             ngắt \n " ,
    " \n " ,
    "     if (count == 0 and Num != 1): \n " ,
    "         in( \" %d \" %Num, end = ' ') "
   ]
  }
],
 "siêu dữ liệu" : {
  "kernelspec" : {
   "display_name" : " cơ sở " ,
   "ngôn ngữ" : " con trăn " ,
   "tên" : " python3 "
  },
  "ngôn ngữ_thông tin" : {
   "codemirror_mode" : {
    "tên" : " ipython " ,
    "phiên bản" : 3
   },
   "file_extension" : " .py " ,
   "mimetype" : " text/x-python " ,
   "tên" : " con trăn " ,
   "nbconvert_exporter" : " trăn " ,
   "pygments_lexer" : " ipython3 " ,
   "phiên bản" : " 3.9.12 "
  },
  "orig_nbformat" : 4 ,
  "vscode" : {
   "thông dịch viên" : {
    "băm" : " ad2bdc8ecc057115af97d19610ffacc2b4e99fae6737bb82f5d7fb13d2f2c186 "
   }
  }
},
 "nbformat" : 4 ,
 "nbformat_minor" : 2
}
